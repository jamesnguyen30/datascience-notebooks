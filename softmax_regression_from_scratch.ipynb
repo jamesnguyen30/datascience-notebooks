{
 "cells": [
  {
   "cell_type": "code",
   "execution_count": 3,
   "metadata": {},
   "outputs": [],
   "source": [
    "import mxnet as mx\n",
    "from mxnet import nd, autograd, gluon\n",
    "from mxnet.gluon.data import DataLoader, ArrayDataset\n",
    "import numpy as np\n",
    "import matplotlib.pyplot as plt\n",
    "data_ctx = mx.cpu()\n",
    "model_ctx = mx.cpu()\n"
   ]
  },
  {
   "cell_type": "code",
   "execution_count": 4,
   "metadata": {},
   "outputs": [],
   "source": [
    "def transform(data, label):\n",
    "    return data.astype(np.float32)/255, label.astype(np.float32)"
   ]
  },
  {
   "cell_type": "code",
   "execution_count": 5,
   "metadata": {},
   "outputs": [],
   "source": [
    "#get the MNIST dataset\n",
    "mnist_train = gluon.data.vision.MNIST(train=True, transform=transform)\n",
    "mnist_test = gluon.data.vision.MNIST(train=False, transform=transform)"
   ]
  },
  {
   "cell_type": "code",
   "execution_count": 6,
   "metadata": {
    "scrolled": true
   },
   "outputs": [
    {
     "name": "stdout",
     "output_type": "stream",
     "text": [
      "(28, 28, 1) 5.0\n",
      "Help on MNIST in module mxnet.gluon.data.vision.datasets object:\n",
      "\n",
      "class MNIST(mxnet.gluon.data.dataset._DownloadedDataset)\n",
      " |  MNIST handwritten digits dataset from http://yann.lecun.com/exdb/mnist\n",
      " |  \n",
      " |  Each sample is an image (in 3D NDArray) with shape (28, 28, 1).\n",
      " |  \n",
      " |  Parameters\n",
      " |  ----------\n",
      " |  root : str, default $MXNET_HOME/datasets/mnist\n",
      " |      Path to temp folder for storing data.\n",
      " |  train : bool, default True\n",
      " |      Whether to load the training or testing set.\n",
      " |  transform : function, default None\n",
      " |      A user defined callback that transforms each sample. For example::\n",
      " |  \n",
      " |          transform=lambda data, label: (data.astype(np.float32)/255, label)\n",
      " |  \n",
      " |  Method resolution order:\n",
      " |      MNIST\n",
      " |      mxnet.gluon.data.dataset._DownloadedDataset\n",
      " |      mxnet.gluon.data.dataset.Dataset\n",
      " |      builtins.object\n",
      " |  \n",
      " |  Methods defined here:\n",
      " |  \n",
      " |  __init__(self, root='/Users/nguyen/.mxnet/datasets/mnist', train=True, transform=None)\n",
      " |      Initialize self.  See help(type(self)) for accurate signature.\n",
      " |  \n",
      " |  ----------------------------------------------------------------------\n",
      " |  Methods inherited from mxnet.gluon.data.dataset._DownloadedDataset:\n",
      " |  \n",
      " |  __getitem__(self, idx)\n",
      " |  \n",
      " |  __len__(self)\n",
      " |  \n",
      " |  ----------------------------------------------------------------------\n",
      " |  Methods inherited from mxnet.gluon.data.dataset.Dataset:\n",
      " |  \n",
      " |  transform(self, fn, lazy=True)\n",
      " |      Returns a new dataset with each sample transformed by the\n",
      " |      transformer function `fn`.\n",
      " |      \n",
      " |      Parameters\n",
      " |      ----------\n",
      " |      fn : callable\n",
      " |          A transformer function that takes a sample as input and\n",
      " |          returns the transformed sample.\n",
      " |      lazy : bool, default True\n",
      " |          If False, transforms all samples at once. Otherwise,\n",
      " |          transforms each sample on demand. Note that if `fn`\n",
      " |          is stochastic, you must set lazy to True or you will\n",
      " |          get the same result on all epochs.\n",
      " |      \n",
      " |      Returns\n",
      " |      -------\n",
      " |      Dataset\n",
      " |          The transformed dataset.\n",
      " |  \n",
      " |  transform_first(self, fn, lazy=True)\n",
      " |      Returns a new dataset with the first element of each sample\n",
      " |      transformed by the transformer function `fn`.\n",
      " |      \n",
      " |      This is useful, for example, when you only want to transform data\n",
      " |      while keeping label as is.\n",
      " |      \n",
      " |      Parameters\n",
      " |      ----------\n",
      " |      fn : callable\n",
      " |          A transformer function that takes the first elemtn of a sample\n",
      " |          as input and returns the transformed element.\n",
      " |      lazy : bool, default True\n",
      " |          If False, transforms all samples at once. Otherwise,\n",
      " |          transforms each sample on demand. Note that if `fn`\n",
      " |          is stochastic, you must set lazy to True or you will\n",
      " |          get the same result on all epochs.\n",
      " |      \n",
      " |      Returns\n",
      " |      -------\n",
      " |      Dataset\n",
      " |          The transformed dataset.\n",
      " |  \n",
      " |  ----------------------------------------------------------------------\n",
      " |  Data descriptors inherited from mxnet.gluon.data.dataset.Dataset:\n",
      " |  \n",
      " |  __dict__\n",
      " |      dictionary for instance variables (if defined)\n",
      " |  \n",
      " |  __weakref__\n",
      " |      list of weak references to the object (if defined)\n",
      "\n"
     ]
    }
   ],
   "source": [
    "image,label = mnist_train[0]\n",
    "print(image.shape, label)\n",
    "help(mnist_train)"
   ]
  },
  {
   "cell_type": "code",
   "execution_count": 7,
   "metadata": {},
   "outputs": [
    {
     "name": "stdout",
     "output_type": "stream",
     "text": [
      "784\n",
      "10\n",
      "60000\n",
      " ============= \n",
      "(28, 28, 3)\n"
     ]
    },
    {
     "data": {
      "image/png": "[encoded data removed]",
      "text/plain": [
       "<Figure size 432x288 with 1 Axes>"
      ]
     },
     "metadata": {
      "needs_background": "light"
     },
     "output_type": "display_data"
    }
   ],
   "source": [
    "n_inputs = image.shape[0] * image.shape[1]\n",
    "n_outputs =  10\n",
    "n_examples = len(mnist_train)\n",
    "\n",
    "print(n_inputs)\n",
    "print(n_outputs)\n",
    "print(n_examples)\n",
    "\n",
    "#Transform the image to correct shape to use pyplot\n",
    "im = mx.nd.tile(image, (1,1,3))\n",
    "print(im.shape)\n",
    "plt.imshow(im.asnumpy())\n",
    "plt.show()"
   ]
  },
  {
   "cell_type": "code",
   "execution_count": 36,
   "metadata": {},
   "outputs": [],
   "source": [
    "def softmax(z):\n",
    "    exp = nd.exp(z - nd.max(z, axis=1).reshape((-1,1)))\n",
    "    norm = nd.sum(exp, axis=1).reshape((-1,1))\n",
    "    return exp/norm\n",
    "\n",
    "def net(x):\n",
    "    ypred = nd.dot(x, W) + b\n",
    "    yhat = softmax(ypred)\n",
    "    return yhat\n",
    "\n",
    "def cross_entropy(yhat, y):\n",
    "    return -nd.sum(y*nd.log(yhat+1e-6))\n",
    "\n",
    "\n",
    "def SGD(params, lr):\n",
    "    for param in params:\n",
    "        param[:] = param - lr * param.grad\n"
   ]
  },
  {
   "cell_type": "code",
   "execution_count": 40,
   "metadata": {},
   "outputs": [
    {
     "name": "stdout",
     "output_type": "stream",
     "text": [
      "\n",
      "[[-1.7959518   1.3836894   0.27197918 -0.15085384  0.8824911  -0.9173083\n",
      "  -0.38282967 -1.4841262  -0.4451735  -2.0375571 ]\n",
      " [-1.6115125   0.4244045   1.0231789  -0.31193107  0.11362571 -0.33210364\n",
      "  -0.36815634  0.7795745  -0.18026796  0.7852503 ]]\n",
      "<NDArray 2x10 @cpu(0)>\n",
      "\n",
      "[[0.01533305 0.3685778  0.12126055 0.07944846 0.22328602 0.03691633\n",
      "  0.06299987 0.02094367 0.05919215 0.01204206]\n",
      " [0.01537565 0.1177663  0.21432135 0.05639421 0.08630808 0.055268\n",
      "  0.05331093 0.16798456 0.06433023 0.16894072]]\n",
      "<NDArray 2x10 @cpu(0)>\n",
      "\n",
      "[1. 1.]\n",
      "<NDArray 2 @cpu(0)>\n"
     ]
    }
   ],
   "source": [
    "batch_size = 64\n",
    "\n",
    "train_dataloader = DataLoader(mnist_train, batch_size=batch_size, shuffle=True)\n",
    "test_dataloader = DataLoader(mnist_test, batch_size=batch_size, shuffle=True)\n",
    "\n",
    "W = nd.random.normal(shape=(n_inputs, n_outputs), ctx=model_ctx)\n",
    "b = nd.random.normal(shape=n_outputs, ctx=model_ctx)\n",
    "\n",
    "params = [W,b]\n",
    "\n",
    "for param in params:\n",
    "    param.attach_grad()\n",
    "    \n",
    "sample_y = nd.random.normal(shape=(2,10))\n",
    "\n",
    "sample_yhat = softmax(sample_y)\n",
    "print(sample_y)\n",
    "\n",
    "print(sample_yhat)\n",
    "print(nd.sum(sample_yhat, axis=1))\n"
   ]
  },
  {
   "cell_type": "code",
   "execution_count": 26,
   "metadata": {},
   "outputs": [],
   "source": [
    "def evaluate_accuracy(dataloader, net):\n",
    "    numerator = 0\n",
    "    denominator = 0\n",
    "    for i,(data, label) in enumerate(dataloader):\n",
    "        data = data.as_in_context(mx.cpu()).reshape(-1,n_inputs)\n",
    "        label = label.as_in_context(mx.cpu())\n",
    "        output = net(data)\n",
    "        predictions = nd.argmax(output, axis=1)\n",
    "        numerator += nd.sum(predictions == label)\n",
    "        denominator += data.shape[0]\n",
    "    return (numerator / denominator).asscalar()"
   ]
  },
  {
   "cell_type": "code",
   "execution_count": 35,
   "metadata": {},
   "outputs": [
    {
     "name": "stdout",
     "output_type": "stream",
     "text": [
      "Test acc: 0.8616999983787537 / Training acc: 0.8574000000953674\n",
      "Test acc: 0.883899986743927 / Training acc: 0.8826833367347717\n",
      "Test acc: 0.8921999931335449 / Training acc: 0.8931166529655457\n",
      "Test acc: 0.8992000222206116 / Training acc: 0.9002333283424377\n",
      "Test acc: 0.9004999995231628 / Training acc: 0.9046499729156494\n"
     ]
    }
   ],
   "source": [
    "#Execute training loop\n",
    "epochs = 5\n",
    "learning_rate = .005\n",
    "\n",
    "for e in range(epochs):\n",
    "    cum_loss = 0\n",
    "    for i, (data, label) in enumerate(train_dataloader):\n",
    "        data = data.as_in_context(mx.cpu()).reshape(-1, n_inputs)\n",
    "        label = label.as_in_context(mx.cpu())\n",
    "        label_one_hot = nd.one_hot(label, 10)\n",
    "        \n",
    "        with autograd.record():\n",
    "            output = net(data)\n",
    "            loss = cross_entropy(output, label_one_hot)\n",
    "        loss.backward()\n",
    "        \n",
    "        SGD(params, learning_rate)\n",
    "        cum_loss += nd.sum(loss).asscalar()\n",
    "    \n",
    "    test_acc = evaluate_accuracy(test_dataloader, net)\n",
    "    train_acc = evaluate_accuracy(train_dataloader, net)\n",
    "    \n",
    "    print(\"Test acc: {} / Training acc: {}\".format(test_acc, train_acc))"
   ]
  },
  {
   "cell_type": "code",
   "execution_count": 52,
   "metadata": {
    "scrolled": true
   },
   "outputs": [],
   "source": [
    "def model_predict(data, net):\n",
    "    return nd.argmax(net(data), axis=1)\n",
    "\n",
    "def visualize_data(net):\n",
    "    sample_data = DataLoader(mnist_test, 10, shuffle=True)\n",
    "\n",
    "    for i,(data, label) in enumerate(sample_data):\n",
    "        data = data.as_in_context(mx.cpu())\n",
    "        print(data.shape)\n",
    "\n",
    "        im = nd.transpose(data,(1,0,2,3))\n",
    "        im = nd.reshape(im,(28,10*28,1))\n",
    "        imtiles = nd.tile(im, (1,1,3))\n",
    "\n",
    "        plt.imshow(imtiles.asnumpy())\n",
    "        plt.show()\n",
    "\n",
    "        pred = model_predict(data.reshape(-1,n_inputs), net)\n",
    "        print(\"Prediction : {}\".format(pred))\n",
    "\n",
    "        if i>10:\n",
    "            break"
   ]
  },
  {
   "cell_type": "code",
   "execution_count": 53,
   "metadata": {},
   "outputs": [
    {
     "name": "stdout",
     "output_type": "stream",
     "text": [
      "Test acc : 0.8087 Train acc: 0.7962\n",
      "Test acc : 0.8486 Train acc: 0.8391833333333333\n",
      "Test acc : 0.8604 Train acc: 0.8552\n",
      "Test acc : 0.8732 Train acc: 0.866\n",
      "Test acc : 0.8782 Train acc: 0.8740666666666667\n",
      "Test acc : 0.882 Train acc: 0.8798666666666667\n",
      "Test acc : 0.8873 Train acc: 0.88445\n",
      "Test acc : 0.8895 Train acc: 0.8882\n",
      "Test acc : 0.8916 Train acc: 0.8901833333333333\n",
      "Test acc : 0.8941 Train acc: 0.8935833333333333\n",
      "(10, 28, 28, 1)\n"
     ]
    },
    {
     "data": {
      "image/png": "[encoded data removed]",
      "text/plain": [
       "<Figure size 432x288 with 1 Axes>"
      ]
     },
     "metadata": {
      "needs_background": "light"
     },
     "output_type": "display_data"
    },
    {
     "name": "stdout",
     "output_type": "stream",
     "text": [
      "Prediction : \n",
      "[1. 4. 2. 7. 4. 5. 8. 6. 5. 4.]\n",
      "<NDArray 10 @cpu(0)>\n",
      "(10, 28, 28, 1)\n"
     ]
    },
    {
     "data": {
      "image/png": "[encoded data removed]",
      "text/plain": [
       "<Figure size 432x288 with 1 Axes>"
      ]
     },
     "metadata": {
      "needs_background": "light"
     },
     "output_type": "display_data"
    },
    {
     "name": "stdout",
     "output_type": "stream",
     "text": [
      "Prediction : \n",
      "[0. 7. 7. 9. 2. 7. 2. 0. 9. 1.]\n",
      "<NDArray 10 @cpu(0)>\n",
      "(10, 28, 28, 1)\n"
     ]
    },
    {
     "data": {
      "image/png": "[encoded data removed]",
      "text/plain": [
       "<Figure size 432x288 with 1 Axes>"
      ]
     },
     "metadata": {
      "needs_background": "light"
     },
     "output_type": "display_data"
    },
    {
     "name": "stdout",
     "output_type": "stream",
     "text": [
      "Prediction : \n",
      "[6. 9. 8. 0. 2. 7. 3. 5. 7. 0.]\n",
      "<NDArray 10 @cpu(0)>\n",
      "(10, 28, 28, 1)\n"
     ]
    },
    {
     "data": {
      "image/png": "[encoded data removed]",
      "text/plain": [
       "<Figure size 432x288 with 1 Axes>"
      ]
     },
     "metadata": {
      "needs_background": "light"
     },
     "output_type": "display_data"
    },
    {
     "name": "stdout",
     "output_type": "stream",
     "text": [
      "Prediction : \n",
      "[3. 7. 2. 9. 9. 6. 6. 8. 0. 5.]\n",
      "<NDArray 10 @cpu(0)>\n",
      "(10, 28, 28, 1)\n"
     ]
    },
    {
     "data": {
      "image/png": "[encoded data removed]",
      "text/plain": [
       "<Figure size 432x288 with 1 Axes>"
      ]
     },
     "metadata": {
      "needs_background": "light"
     },
     "output_type": "display_data"
    },
    {
     "name": "stdout",
     "output_type": "stream",
     "text": [
      "Prediction : \n",
      "[2. 3. 1. 2. 7. 9. 8. 9. 2. 7.]\n",
      "<NDArray 10 @cpu(0)>\n",
      "(10, 28, 28, 1)\n"
     ]
    },
    {
     "data": {
      "image/png": "[encoded data removed]",
      "text/plain": [
       "<Figure size 432x288 with 1 Axes>"
      ]
     },
     "metadata": {
      "needs_background": "light"
     },
     "output_type": "display_data"
    },
    {
     "name": "stdout",
     "output_type": "stream",
     "text": [
      "Prediction : \n",
      "[7. 1. 3. 8. 5. 6. 1. 5. 4. 7.]\n",
      "<NDArray 10 @cpu(0)>\n",
      "(10, 28, 28, 1)\n"
     ]
    },
    {
     "data": {
      "image/png": "[encoded data removed]",
      "text/plain": [
       "<Figure size 432x288 with 1 Axes>"
      ]
     },
     "metadata": {
      "needs_background": "light"
     },
     "output_type": "display_data"
    },
    {
     "name": "stdout",
     "output_type": "stream",
     "text": [
      "Prediction : \n",
      "[9. 2. 6. 8. 4. 9. 9. 3. 9. 8.]\n",
      "<NDArray 10 @cpu(0)>\n",
      "(10, 28, 28, 1)\n"
     ]
    },
    {
     "data": {
      "image/png": "[encoded data removed]",
      "text/plain": [
       "<Figure size 432x288 with 1 Axes>"
      ]
     },
     "metadata": {
      "needs_background": "light"
     },
     "output_type": "display_data"
    },
    {
     "name": "stdout",
     "output_type": "stream",
     "text": [
      "Prediction : \n",
      "[8. 1. 9. 6. 2. 8. 7. 2. 1. 3.]\n",
      "<NDArray 10 @cpu(0)>\n",
      "(10, 28, 28, 1)\n"
     ]
    },
    {
     "data": {
      "image/png": "[encoded data removed]",
      "text/plain": [
       "<Figure size 432x288 with 1 Axes>"
      ]
     },
     "metadata": {
      "needs_background": "light"
     },
     "output_type": "display_data"
    },
    {
     "name": "stdout",
     "output_type": "stream",
     "text": [
      "Prediction : \n",
      "[2. 6. 6. 2. 1. 0. 6. 0. 1. 0.]\n",
      "<NDArray 10 @cpu(0)>\n",
      "(10, 28, 28, 1)\n"
     ]
    },
    {
     "data": {
      "image/png": "[encoded data removed]",
      "text/plain": [
       "<Figure size 432x288 with 1 Axes>"
      ]
     },
     "metadata": {
      "needs_background": "light"
     },
     "output_type": "display_data"
    },
    {
     "name": "stdout",
     "output_type": "stream",
     "text": [
      "Prediction : \n",
      "[9. 8. 8. 5. 0. 8. 1. 0. 7. 8.]\n",
      "<NDArray 10 @cpu(0)>\n",
      "(10, 28, 28, 1)\n"
     ]
    },
    {
     "data": {
      "image/png": "[encoded data removed]",
      "text/plain": [
       "<Figure size 432x288 with 1 Axes>"
      ]
     },
     "metadata": {
      "needs_background": "light"
     },
     "output_type": "display_data"
    },
    {
     "name": "stdout",
     "output_type": "stream",
     "text": [
      "Prediction : \n",
      "[5. 2. 0. 4. 4. 1. 6. 6. 3. 4.]\n",
      "<NDArray 10 @cpu(0)>\n",
      "(10, 28, 28, 1)\n"
     ]
    },
    {
     "data": {
      "image/png": "[encoded data removed]",
      "text/plain": [
       "<Figure size 432x288 with 1 Axes>"
      ]
     },
     "metadata": {
      "needs_background": "light"
     },
     "output_type": "display_data"
    },
    {
     "name": "stdout",
     "output_type": "stream",
     "text": [
      "Prediction : \n",
      "[6. 4. 3. 7. 9. 8. 1. 1. 5. 1.]\n",
      "<NDArray 10 @cpu(0)>\n"
     ]
    }
   ],
   "source": [
    "#build with Gluon\n",
    "batch_size = 64\n",
    "n_inputs = 784 # 28x28 image\n",
    "n_outputs = 10 # 10 classes\n",
    "n_examples = 60000\n",
    "\n",
    "#define  context\n",
    "ctx = mx.cpu()\n",
    "#ctx = mx.gpu()\n",
    "\n",
    "#define a net\n",
    "net = gluon.nn.Dense(n_outputs)\n",
    "\n",
    "#init params\n",
    "net.collect_params().initialize(mx.init.Normal(sigma=1.), ctx=ctx)\n",
    "\n",
    "#loss function: SoftmaxCrossEntropyLoss\n",
    "softmax_cross_entropy = gluon.loss.SoftmaxCrossEntropyLoss()\n",
    "\n",
    "#optimizer with SGD\n",
    "trainer = gluon.Trainer(net.collect_params(), 'sgd', {'learning_rate':0.1})\n",
    "\n",
    "#evaluate using mx.Accuracy\n",
    "def evaluate_acc(data_iterator, net):\n",
    "    acc = mx.metric.Accuracy()\n",
    "    \n",
    "    for i, (data, label) in enumerate(data_iterator):\n",
    "        data = data.as_in_context(ctx).reshape((-1,n_inputs))\n",
    "        label = label.as_in_context(ctx)\n",
    "        \n",
    "        output = net(data)\n",
    "        predictions = nd.argmax(output, axis=1)\n",
    "        acc.update(preds=predictions, labels = label)\n",
    "    return acc.get()[1]\n",
    "\n",
    "#execute training loop\n",
    "\n",
    "epochs = 10\n",
    "moving_loss = 0\n",
    "\n",
    "for e in range(epochs):\n",
    "    cum_loss = 0\n",
    "    for i, (data,label) in enumerate(train_dataloader):\n",
    "        data= data.as_in_context(ctx).reshape((-1,n_inputs))\n",
    "        label = label.as_in_context(ctx)\n",
    "        with autograd.record():\n",
    "            output = net(data)\n",
    "            loss = softmax_cross_entropy(output, label)\n",
    "        loss.backward()\n",
    "        trainer.step(batch_size)\n",
    "        cum_loss+=nd.sum(loss).asscalar()\n",
    "        \n",
    "    test_acc = evaluate_acc(test_dataloader,net)\n",
    "    train_acc = evaluate_acc(train_dataloader,net)\n",
    "    \n",
    "    print(\"Test acc : {} Train acc: {}\".format(test_acc, train_acc))\n",
    "\n",
    "#visualize results\n",
    "visualize_data(net)\n"
   ]
  },
  {
   "cell_type": "code",
   "execution_count": null,
   "metadata": {},
   "outputs": [],
   "source": []
  }
 ],
 "metadata": {
  "kernelspec": {
   "display_name": "env",
   "language": "python",
   "name": "env"
  },
  "language_info": {
   "codemirror_mode": {
    "name": "ipython",
    "version": 3
   },
   "file_extension": ".py",
   "mimetype": "text/x-python",
   "name": "python",
   "nbconvert_exporter": "python",
   "pygments_lexer": "ipython3",
   "version": "3.6.8"
  }
 },
 "nbformat": 4,
 "nbformat_minor": 2
}
