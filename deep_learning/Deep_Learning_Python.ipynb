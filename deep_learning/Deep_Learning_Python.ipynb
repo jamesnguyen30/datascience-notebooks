{
  "nbformat": 4,
  "nbformat_minor": 0,
  "metadata": {
    "colab": {
      "name": "Deep Learning Python.ipynb",
      "version": "0.3.2",
      "provenance": [],
      "collapsed_sections": []
    },
    "kernelspec": {
      "name": "python3",
      "display_name": "Python 3"
    },
    "accelerator": "GPU"
  },
  "cells": [
    {
      "metadata": {
        "id": "OrbQ38p6f0pu",
        "colab_type": "code",
        "outputId": "e1fdbe0f-f8c3-4022-baf4-861cd34cff4d",
        "colab": {
          "base_uri": "https://localhost:8080/",
          "height": 34
        }
      },
      "cell_type": "code",
      "source": [
        "import matplotlib.pyplot as plt\n",
        "from keras.datasets import imdb\n",
        "import numpy as np"
      ],
      "execution_count": 0,
      "outputs": [
        {
          "output_type": "stream",
          "text": [
            "Using TensorFlow backend.\n"
          ],
          "name": "stderr"
        }
      ]
    },
    {
      "metadata": {
        "id": "_oGe0xtpgLOp",
        "colab_type": "code",
        "colab": {}
      },
      "cell_type": "code",
      "source": [
        "(train_data, train_labels),(test_data, test_labels) = imdb.load_data(num_words=10000)\n",
        "word_index = imdb.get_word_index()\n",
        "reverse_word_index = dict( (value, key) for (key, value) in word_index.items())\n"
      ],
      "execution_count": 0,
      "outputs": []
    },
    {
      "metadata": {
        "id": "PLKP2Qq-ihf-",
        "colab_type": "code",
        "outputId": "e69c7f8e-158f-45d2-93b0-0c00ef11b90c",
        "colab": {
          "base_uri": "https://localhost:8080/",
          "height": 105
        }
      },
      "cell_type": "code",
      "source": [
        "print(train_data[0])\n",
        "print(train_labels)\n",
        "\n",
        "print(train_data.dtype)\n",
        "print(train_labels[0].dtype)\n",
        "\n"
      ],
      "execution_count": 0,
      "outputs": [
        {
          "output_type": "stream",
          "text": [
            "[1, 14, 22, 16, 43, 530, 973, 1622, 1385, 65, 458, 4468, 66, 3941, 4, 173, 36, 256, 5, 25, 100, 43, 838, 112, 50, 670, 2, 9, 35, 480, 284, 5, 150, 4, 172, 112, 167, 2, 336, 385, 39, 4, 172, 4536, 1111, 17, 546, 38, 13, 447, 4, 192, 50, 16, 6, 147, 2025, 19, 14, 22, 4, 1920, 4613, 469, 4, 22, 71, 87, 12, 16, 43, 530, 38, 76, 15, 13, 1247, 4, 22, 17, 515, 17, 12, 16, 626, 18, 2, 5, 62, 386, 12, 8, 316, 8, 106, 5, 4, 2223, 5244, 16, 480, 66, 3785, 33, 4, 130, 12, 16, 38, 619, 5, 25, 124, 51, 36, 135, 48, 25, 1415, 33, 6, 22, 12, 215, 28, 77, 52, 5, 14, 407, 16, 82, 2, 8, 4, 107, 117, 5952, 15, 256, 4, 2, 7, 3766, 5, 723, 36, 71, 43, 530, 476, 26, 400, 317, 46, 7, 4, 2, 1029, 13, 104, 88, 4, 381, 15, 297, 98, 32, 2071, 56, 26, 141, 6, 194, 7486, 18, 4, 226, 22, 21, 134, 476, 26, 480, 5, 144, 30, 5535, 18, 51, 36, 28, 224, 92, 25, 104, 4, 226, 65, 16, 38, 1334, 88, 12, 16, 283, 5, 16, 4472, 113, 103, 32, 15, 16, 5345, 19, 178, 32]\n",
            "[1 0 0 ... 0 1 0]\n",
            "object\n",
            "int64\n"
          ],
          "name": "stdout"
        }
      ]
    },
    {
      "metadata": {
        "id": "CwuIFHTOi2L6",
        "colab_type": "code",
        "outputId": "f2f90ec3-42e2-4fcf-e9ba-d5f1f1d49485",
        "colab": {
          "base_uri": "https://localhost:8080/",
          "height": 54
        }
      },
      "cell_type": "code",
      "source": [
        "#decode the train_data\n",
        "decoded_review = ' '.join([reverse_word_index.get(i) for i in train_data[0]])\n",
        "print(decoded_review)"
      ],
      "execution_count": 0,
      "outputs": [
        {
          "output_type": "stream",
          "text": [
            "the as you with out themselves powerful lets loves their becomes reaching had journalist of lot from anyone to have after out atmosphere never more room and it so heart shows to years of every never going and help moments or of every chest visual movie except her was several of enough more with is now current film as you of mine potentially unfortunately of you than him that with out themselves her get for was camp of you movie sometimes movie that with scary but and to story wonderful that in seeing in character to of 70s musicians with heart had shadows they of here that with her serious to have does when from why what have critics they is you that isn't one will very to as itself with other and in of seen over landed for anyone of and br show's to whether from than out themselves history he name half some br of and odd was two most of mean for 1 any an boat she he should is thought frog but of script you not while history he heart to real at barrel but when from one bit then have two of script their with her nobody most that with wasn't to with armed acting watch an for with heartfelt film want an\n"
          ],
          "name": "stdout"
        }
      ]
    },
    {
      "metadata": {
        "id": "iy_wU6vqkx59",
        "colab_type": "code",
        "outputId": "39b07a2c-5ec7-4e98-92ad-6181bb607656",
        "colab": {
          "base_uri": "https://localhost:8080/",
          "height": 51
        }
      },
      "cell_type": "code",
      "source": [
        "# we will pass train_data[0] to sequence\n",
        "def vectorize_sequence(sequences, dimensions = 10000):\n",
        "  results = np.zeros((len(sequences),dimensions))\n",
        "  for i, sequence in enumerate(sequences):\n",
        "    results[i, sequence] = 1\n",
        "  return results\n",
        "\n",
        "x_train = vectorize_sequence(train_data)\n",
        "x_test = vectorize_sequence(test_data)\n",
        "print(len(x_train))\n",
        "y_train = np.array(train_labels).astype('float32')\n",
        "print(y_train)\n",
        "y_test = vectorize_sequence(test_labels)\n",
        "\n",
        "#get the first 10000 rows\n",
        "x_val = x_train[:10000]\n",
        "# get another 10000 rows\n",
        "partial_x_val = x_train[10000:]\n",
        "\n",
        "#same goes here\n",
        "y_val = y_train[:10000]\n",
        "partial_y_val = y_train[10000:]\n",
        "\n"
      ],
      "execution_count": 0,
      "outputs": [
        {
          "output_type": "stream",
          "text": [
            "25000\n",
            "[1. 0. 0. ... 0. 1. 0.]\n"
          ],
          "name": "stdout"
        }
      ]
    },
    {
      "metadata": {
        "id": "0bv0ViN9v5zG",
        "colab_type": "code",
        "outputId": "91dad63d-4d3f-46ee-ea67-7b25d11274c3",
        "colab": {
          "base_uri": "https://localhost:8080/",
          "height": 836
        }
      },
      "cell_type": "code",
      "source": [
        "# keras implementation\n",
        "from keras import models\n",
        "from keras import layers\n",
        "\n",
        "model = models.Sequential()\n",
        "model.add(layers.Dense(16, activation='relu', input_shape = (10000,) ))\n",
        "model.add(layers.Dense(16, activation='relu'))\n",
        "model.add(layers.Dense(1, activation='relu'))\n",
        "\n",
        "model.compile(optimizer=\"rmsprop\", loss = \"binary_crossentropy\", metrics = ['accuracy'])\n",
        "history = model.fit(\n",
        "    partial_x_val, #training data\n",
        "    partial_y_val, #training label\n",
        "    epochs=20, \n",
        "    batch_size = 512, #mini-batches = 512\n",
        "    validation_data=(x_val, y_val)) #monitor loss and accuracy on the 10,000 samples that you set apart\n",
        "\n"
      ],
      "execution_count": 0,
      "outputs": [
        {
          "output_type": "stream",
          "text": [
            "WARNING:tensorflow:From /usr/local/lib/python3.6/dist-packages/tensorflow/python/framework/op_def_library.py:263: colocate_with (from tensorflow.python.framework.ops) is deprecated and will be removed in a future version.\n",
            "Instructions for updating:\n",
            "Colocations handled automatically by placer.\n",
            "WARNING:tensorflow:From /usr/local/lib/python3.6/dist-packages/tensorflow/python/ops/math_ops.py:3066: to_int32 (from tensorflow.python.ops.math_ops) is deprecated and will be removed in a future version.\n",
            "Instructions for updating:\n",
            "Use tf.cast instead.\n",
            "Train on 15000 samples, validate on 10000 samples\n",
            "Epoch 1/20\n",
            "15000/15000 [==============================] - 4s 273us/step - loss: 0.8426 - acc: 0.6813 - val_loss: 0.4237 - val_acc: 0.8175\n",
            "Epoch 2/20\n",
            "15000/15000 [==============================] - 2s 113us/step - loss: 0.3683 - acc: 0.8462 - val_loss: 0.4431 - val_acc: 0.8469\n",
            "Epoch 3/20\n",
            "15000/15000 [==============================] - 2s 115us/step - loss: 0.2816 - acc: 0.8475 - val_loss: 0.4817 - val_acc: 0.7824\n",
            "Epoch 4/20\n",
            "15000/15000 [==============================] - 2s 116us/step - loss: 0.2272 - acc: 0.8291 - val_loss: 0.5931 - val_acc: 0.7897\n",
            "Epoch 5/20\n",
            "15000/15000 [==============================] - 2s 114us/step - loss: 0.1784 - acc: 0.8216 - val_loss: 0.5900 - val_acc: 0.7525\n",
            "Epoch 6/20\n",
            "15000/15000 [==============================] - 2s 115us/step - loss: 0.1512 - acc: 0.7988 - val_loss: 0.7155 - val_acc: 0.7089\n",
            "Epoch 7/20\n",
            "15000/15000 [==============================] - 2s 114us/step - loss: 0.1535 - acc: 0.7556 - val_loss: 0.7702 - val_acc: 0.6849\n",
            "Epoch 8/20\n",
            "15000/15000 [==============================] - 2s 114us/step - loss: 0.1276 - acc: 0.7477 - val_loss: 0.8847 - val_acc: 0.6760\n",
            "Epoch 9/20\n",
            "15000/15000 [==============================] - 2s 115us/step - loss: 0.1071 - acc: 0.7203 - val_loss: 0.9044 - val_acc: 0.6474\n",
            "Epoch 10/20\n",
            "15000/15000 [==============================] - 2s 114us/step - loss: 0.0963 - acc: 0.7049 - val_loss: 0.9524 - val_acc: 0.6373\n",
            "Epoch 11/20\n",
            "15000/15000 [==============================] - 2s 114us/step - loss: 0.0971 - acc: 0.6885 - val_loss: 1.0028 - val_acc: 0.5966\n",
            "Epoch 12/20\n",
            "15000/15000 [==============================] - 2s 114us/step - loss: 0.0780 - acc: 0.6715 - val_loss: 1.0824 - val_acc: 0.6284\n",
            "Epoch 13/20\n",
            "15000/15000 [==============================] - 2s 116us/step - loss: 0.0653 - acc: 0.6645 - val_loss: 1.0792 - val_acc: 0.5967\n",
            "Epoch 14/20\n",
            "15000/15000 [==============================] - 2s 114us/step - loss: 0.0995 - acc: 0.6559 - val_loss: 1.0943 - val_acc: 0.5867\n",
            "Epoch 15/20\n",
            "15000/15000 [==============================] - 2s 114us/step - loss: 0.0682 - acc: 0.6445 - val_loss: 1.2707 - val_acc: 0.6265\n",
            "Epoch 16/20\n",
            "15000/15000 [==============================] - 2s 114us/step - loss: 0.0618 - acc: 0.6406 - val_loss: 1.1647 - val_acc: 0.5598\n",
            "Epoch 17/20\n",
            "15000/15000 [==============================] - 2s 115us/step - loss: 0.0897 - acc: 0.6261 - val_loss: 1.1590 - val_acc: 0.5731\n",
            "Epoch 18/20\n",
            "15000/15000 [==============================] - 2s 114us/step - loss: 0.0607 - acc: 0.6251 - val_loss: 1.1832 - val_acc: 0.5747\n",
            "Epoch 19/20\n",
            "15000/15000 [==============================] - 2s 115us/step - loss: 0.0776 - acc: 0.6196 - val_loss: 1.1970 - val_acc: 0.5639\n",
            "Epoch 20/20\n",
            "15000/15000 [==============================] - 2s 113us/step - loss: 0.0721 - acc: 0.6140 - val_loss: 1.1904 - val_acc: 0.5613\n"
          ],
          "name": "stdout"
        }
      ]
    },
    {
      "metadata": {
        "id": "djp75Rn61BTF",
        "colab_type": "code",
        "outputId": "b80f8dc2-564a-49d9-957e-372322fc50e7",
        "colab": {
          "base_uri": "https://localhost:8080/",
          "height": 410
        }
      },
      "cell_type": "code",
      "source": [
        "history_dict = history.history\n",
        "print(history_dict.keys())\n",
        "\n",
        "loss_values = history_dict['loss']\n",
        "val_loss_values = history_dict['val_loss']\n",
        "\n",
        "acc = history_dict.get('acc')\n",
        "epochs = range(1, len(acc) + 1)\n",
        "\n",
        "\n",
        "plt.plot(epochs, loss_values, 'bo', label='Training loss')           \n",
        "plt.plot(epochs, val_loss_values, 'b', label='Validation loss')      \n",
        "plt.title('Training and validation loss')\n",
        "plt.xlabel('Epochs')\n",
        "plt.ylabel('Loss')\n",
        "plt.legend()\n"
      ],
      "execution_count": 0,
      "outputs": [
        {
          "output_type": "stream",
          "text": [
            "dict_keys(['val_loss', 'val_acc', 'loss', 'acc'])\n"
          ],
          "name": "stdout"
        },
        {
          "output_type": "execute_result",
          "data": {
            "text/plain": [
              "<matplotlib.legend.Legend at 0x7f7e54ccd710>"
            ]
          },
          "metadata": {
            "tags": []
          },
          "execution_count": 11
        },
        {
          "output_type": "display_data",
          "data": {
            "image/png": "[encoded data removed]",
            "text/plain": [
              "<Figure size 576x396 with 1 Axes>"
            ]
          },
          "metadata": {
            "tags": []
          }
        }
      ]
    },
    {
      "metadata": {
        "id": "cc14M5yE9B_N",
        "colab_type": "code",
        "outputId": "fe1c20cf-c26a-4ba9-80d0-c0492f086e74",
        "colab": {
          "base_uri": "https://localhost:8080/",
          "height": 376
        }
      },
      "cell_type": "code",
      "source": [
        "acc_values = history_dict['acc']\n",
        "val_acc_values = history_dict['val_acc']\n",
        "\n",
        "plt.plot(epochs, acc, 'bo', label='Training acc')\n",
        "plt.plot(epochs, val_acc_values, 'b', label='Validation acc')\n",
        "plt.title('Training and validation accuracy')\n",
        "plt.xlabel('Epochs')\n",
        "plt.ylabel('Loss')\n",
        "plt.legend()\n",
        "\n",
        "plt.show()"
      ],
      "execution_count": 0,
      "outputs": [
        {
          "output_type": "display_data",
          "data": {
            "image/png": "[encoded data removed]",
            "text/plain": [
              "<Figure size 576x396 with 1 Axes>"
            ]
          },
          "metadata": {
            "tags": []
          }
        }
      ]
    }
  ]
}