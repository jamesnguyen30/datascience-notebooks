{
 "cells": [
  {
   "cell_type": "code",
   "execution_count": 46,
   "metadata": {},
   "outputs": [],
   "source": [
    "from __future__ import print_function\n",
    "import mxnet as mx\n",
    "from mxnet import nd, autograd, gluon\n",
    "import matplotlib.pyplot as plt\n",
    "mx.random.seed(1)\n",
    "ctx = mx.cpu()\n"
   ]
  },
  {
   "cell_type": "code",
   "execution_count": 47,
   "metadata": {},
   "outputs": [
    {
     "name": "stdout",
     "output_type": "stream",
     "text": [
      "\n",
      "[ 0.03629481 -0.4902442 ]\n",
      "<NDArray 2 @cpu(0)>\n",
      "10000\n",
      "\n",
      "[6.0096445]\n",
      "<NDArray 1 @cpu(0)>\n",
      "10000\n"
     ]
    }
   ],
   "source": [
    "n_inputs = 2\n",
    "n_ouputs = 1\n",
    "n_examples = 10000\n",
    "\n",
    "def real_f(X):\n",
    "    return 2*X[:, 0] - 3.4*X[:, 1] + 4.2\n",
    "\n",
    "X = nd.random_normal(shape = (n_examples, n_inputs), ctx = ctx)\n",
    "noise = .1*nd.random_normal(shape=(n_examples), ctx = ctx)\n",
    "y = real_f(X) + noise\n",
    "\n",
    "print(X[0])\n",
    "print(len(X))\n",
    "print(y[0])\n",
    "print(len(y))"
   ]
  },
  {
   "cell_type": "code",
   "execution_count": 48,
   "metadata": {},
   "outputs": [
    {
     "data": {
      "image/png": "[encoded data removed]",
      "text/plain": [
       "<Figure size 432x288 with 2 Axes>"
      ]
     },
     "metadata": {
      "needs_background": "light"
     },
     "output_type": "display_data"
    }
   ],
   "source": [
    "plt.subplot(1,2,1)\n",
    "plt.scatter(X[:,0].asnumpy(), y.asnumpy())\n",
    "plt.subplot(1,2,2)\n",
    "plt.scatter(X[:,1].asnumpy(), y.asnumpy())\n",
    "\n",
    "plt.show()"
   ]
  },
  {
   "cell_type": "code",
   "execution_count": 49,
   "metadata": {},
   "outputs": [],
   "source": [
    "batch_size = 4\n",
    "dataloader = gluon.data.DataLoader(gluon.data.ArrayDataset(X,y), batch_size =batch_size, shuffle=True)"
   ]
  },
  {
   "cell_type": "code",
   "execution_count": 50,
   "metadata": {
    "scrolled": true
   },
   "outputs": [
    {
     "name": "stdout",
     "output_type": "stream",
     "text": [
      "\n",
      "[[-0.48563418]\n",
      " [ 1.6041543 ]]\n",
      "<NDArray 2x1 @cpu(0)>\n",
      "\n",
      "[0.33379942]\n",
      "<NDArray 1 @cpu(0)>\n",
      "\n",
      "[[0.]\n",
      " [0.]]\n",
      "<NDArray 2x1 @cpu(0)>\n"
     ]
    }
   ],
   "source": [
    "w = nd.random_normal(shape = (n_inputs, n_ouputs), ctx=ctx)\n",
    "b = nd.random_normal(shape = n_ouputs, ctx = ctx)\n",
    "\n",
    "params = [w,b]\n",
    "\n",
    "for param in params:\n",
    "    param.attach_grad()\n",
    "    \n",
    "    \n",
    "print(w)\n",
    "print(b)\n",
    "\n",
    "print(w.grad)"
   ]
  },
  {
   "cell_type": "code",
   "execution_count": 51,
   "metadata": {},
   "outputs": [],
   "source": [
    "def net(X):\n",
    "    return mx.nd.dot(X, w) + b\n",
    "\n",
    "def square_loss(yhat, y):\n",
    "    return nd.mean((yhat - y)**2)\n",
    "\n",
    "def SGD(params, lr):\n",
    "    for param in params:\n",
    "        param[:] = param - lr*param.grad"
   ]
  },
  {
   "cell_type": "code",
   "execution_count": 52,
   "metadata": {},
   "outputs": [
    {
     "name": "stdout",
     "output_type": "stream",
     "text": [
      "29.295479586198926\n",
      "10.715206346446276\n",
      "3.923786978068948\n",
      "1.4410644744843244\n",
      "0.5334226604085649\n",
      "0.20156147877275943\n",
      "0.08017767288011965\n",
      "0.03578288818632718\n",
      "0.019534507821244187\n",
      "0.013603084606921766\n"
     ]
    }
   ],
   "source": [
    "epochs = 10\n",
    "learning_rate = .0001\n",
    "num_batches = n_examples/batch_size\n",
    "\n",
    "for e in range(epochs):\n",
    "    cumulative_loss = 0\n",
    "    # inner loop\n",
    "    for i, (data, label) in enumerate(dataloader):\n",
    "        data = data.as_in_context(ctx)\n",
    "        label = label.as_in_context(ctx).reshape((-1, 1))\n",
    "        with autograd.record():\n",
    "            output = net(data)\n",
    "            loss = square_loss(output, label)\n",
    "        loss.backward()\n",
    "        SGD(params, learning_rate)\n",
    "        cumulative_loss += loss.asscalar()\n",
    "    print(cumulative_loss / num_batches)"
   ]
  },
  {
   "cell_type": "code",
   "execution_count": 69,
   "metadata": {},
   "outputs": [
    {
     "name": "stdout",
     "output_type": "stream",
     "text": [
      "dense7_ (\n",
      "  Parameter dense7_weight (shape=(1, 0), dtype=float32)\n",
      "  Parameter dense7_bias (shape=(1,), dtype=float32)\n",
      ")\n",
      "28675.922159343958\n",
      "17306.22790169716\n",
      "10446.395947381854\n",
      "6307.767276030034\n",
      "3810.790931556374\n",
      "2304.281019547954\n",
      "1395.3145605865866\n",
      "846.8877289281227\n",
      "516.0063310540281\n",
      "316.3628771356307\n",
      "195.91900178184733\n",
      "123.2551201354363\n",
      "79.40819323487813\n",
      "52.95772156950261\n",
      "36.99115336773684\n",
      "27.359403150359867\n",
      "21.550617931578017\n",
      "18.050936243322212\n",
      "15.937535989258322\n",
      "14.661471352206718\n"
     ]
    }
   ],
   "source": [
    "#Build a model with Gluon\n",
    "net = gluon.nn.Dense(1)\n",
    "print(net.collect_params())\n",
    "\n",
    "net.collect_params().initialize(mx.init.Normal(sigma=1.0), ctx = ctx)\n",
    "\n",
    "square_loss = gluon.loss.L2Loss()\n",
    "\n",
    "trainer = gluon.Trainer(net.collect_params(), 'sgd', {'learning_rate':0.0001})\n",
    "\n",
    "epochs = 20\n",
    "loss_sequence = []\n",
    "n_batches = n_examples / batch_size\n",
    "\n",
    "for e in range(epochs):\n",
    "    cum_loss = 0\n",
    "    for i, (data, label) in enumerate(dataloader):\n",
    "        with autograd.record():\n",
    "            ypred = net(data)\n",
    "            loss = square_loss(ypred, label)\n",
    "        loss.backward()\n",
    "        trainer.step(batch_size)\n",
    "        cum_loss += nd.mean(loss).asscalar()\n",
    "    print(cum_loss)\n",
    "    loss_sequence.append(cum_loss)"
   ]
  },
  {
   "cell_type": "code",
   "execution_count": 70,
   "metadata": {},
   "outputs": [
    {
     "name": "stdout",
     "output_type": "stream",
     "text": [
      "\n",
      "[[ 1.9892628 -3.3784387]]\n",
      "<NDArray 1x2 @cpu(0)>\n",
      "\n",
      "[4.1746254]\n",
      "<NDArray 1 @cpu(0)>\n"
     ]
    }
   ],
   "source": [
    "print(net.weight.data())\n",
    "print(net.bias.data())"
   ]
  },
  {
   "cell_type": "code",
   "execution_count": null,
   "metadata": {},
   "outputs": [],
   "source": []
  }
 ],
 "metadata": {
  "kernelspec": {
   "display_name": "env",
   "language": "python",
   "name": "env"
  },
  "language_info": {
   "codemirror_mode": {
    "name": "ipython",
    "version": 3
   },
   "file_extension": ".py",
   "mimetype": "text/x-python",
   "name": "python",
   "nbconvert_exporter": "python",
   "pygments_lexer": "ipython3",
   "version": "3.6.8"
  }
 },
 "nbformat": 4,
 "nbformat_minor": 2
}
