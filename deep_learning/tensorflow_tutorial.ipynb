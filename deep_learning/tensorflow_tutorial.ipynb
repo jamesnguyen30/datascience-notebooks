{
 "cells": [
  {
   "cell_type": "code",
   "execution_count": 1,
   "metadata": {},
   "outputs": [],
   "source": [
    "import tensorflow as tf\n",
    "import numpy as np\n",
    "from sklearn.datasets import fetch_california_housing\n",
    "\n",
    "housing = fetch_california_housing()\n",
    "train_data = housing.data\n",
    "target_data = housing.target"
   ]
  },
  {
   "cell_type": "code",
   "execution_count": 2,
   "metadata": {},
   "outputs": [
    {
     "name": "stdout",
     "output_type": "stream",
     "text": [
      "(9, 1)\n"
     ]
    }
   ],
   "source": [
    "rows,cols = train_data.shape\n",
    "\n",
    "train_data_plus_bias = np.c_[np.ones((rows,1)), train_data]\n",
    "X = tf.constant(train_data_plus_bias, dtype=tf.float32, name='X')\n",
    "y = tf.constant(target_data.reshape(-1,1), dtype=tf.float32, name='y')\n",
    "XT = tf.transpose(X)\n",
    "theta = tf.matmul(tf.matmul(tf.matrix_inverse(tf.matmul(XT, X)),XT),y)\n",
    "\n",
    "with tf.Session() as ss:\n",
    "    theta_value = theta.eval()\n",
    "    \n",
    "print(theta_value.shape)"
   ]
  },
  {
   "cell_type": "code",
   "execution_count": 3,
   "metadata": {},
   "outputs": [
    {
     "name": "stdout",
     "output_type": "stream",
     "text": [
      "WARNING:tensorflow:From /Users/nguyen/Desktop/python_workspace/jupyter-notebook/.venv/lib/python3.6/site-packages/tensorflow/python/framework/op_def_library.py:263: colocate_with (from tensorflow.python.framework.ops) is deprecated and will be removed in a future version.\n",
      "Instructions for updating:\n",
      "Colocations handled automatically by placer.\n",
      "Epoch  0 , MSE = 6.110193\n",
      "Epoch  100 , MSE = 0.77705544\n",
      "Epoch  200 , MSE = 0.65260595\n",
      "Epoch  300 , MSE = 0.6239645\n",
      "Epoch  400 , MSE = 0.6033523\n",
      "Epoch  500 , MSE = 0.587338\n",
      "Epoch  600 , MSE = 0.574787\n",
      "Epoch  700 , MSE = 0.56489843\n",
      "Epoch  800 , MSE = 0.55706936\n",
      "Epoch  900 , MSE = 0.5508419\n",
      "Best theta = \n",
      " [[ 2.0685523 ]\n",
      " [ 0.9464179 ]\n",
      " [ 0.16385108]\n",
      " [-0.44280526]\n",
      " [ 0.433206  ]\n",
      " [ 0.01038704]\n",
      " [-0.04563162]\n",
      " [-0.4614407 ]\n",
      " [-0.4435908 ]]\n"
     ]
    }
   ],
   "source": [
    "#compute theta using gradient descent\n",
    "from sklearn.preprocessing import StandardScaler\n",
    "\n",
    "n_epochs = 1000\n",
    "learning_rate = 0.01\n",
    "\n",
    "tf.reset_default_graph()\n",
    "\n",
    "scaler = StandardScaler()\n",
    "scaled_training_data = scaler.fit_transform(train_data)\n",
    "\n",
    "scaled_training_plus_bias = np.c_[np.ones((rows,1)), scaled_training_data]\n",
    "\n",
    "X = tf.constant(scaled_training_plus_bias, dtype=tf.float32, name=\"X\")\n",
    "y = tf.constant(target_data.reshape(-1,1), dtype=tf.float32, name='y')\n",
    "\n",
    "theta = tf.Variable(tf.random_uniform([cols+1,1],-1,1), name='theta')\n",
    "\n",
    "ypred = tf.matmul(X, theta, name='y_pred')\n",
    "\n",
    "error = ypred - y\n",
    "\n",
    "mse = tf.reduce_mean(tf.square(error), name='mse')\n",
    "\n",
    "gradient = 2/rows * tf.matmul(tf.transpose(X), error)\n",
    "\n",
    "training_op = tf.assign(theta, theta - (learning_rate* gradient))\n",
    "\n",
    "init = tf.global_variables_initializer()\n",
    "\n",
    "with tf.Session() as ss:\n",
    "    ss.run(init)\n",
    "    for epoch in range(n_epochs):\n",
    "        if epoch%100 == 0:\n",
    "            print(\"Epoch \", epoch, ', MSE =', mse.eval())\n",
    "        ss.run(training_op)\n",
    "            \n",
    "    best_theta = theta.eval()\n",
    "    print(\"Best theta = \\n\", best_theta)"
   ]
  },
  {
   "cell_type": "code",
   "execution_count": null,
   "metadata": {},
   "outputs": [],
   "source": [
    "#Training DNN with low-level API\n"
   ]
  }
 ],
 "metadata": {
  "kernelspec": {
   "display_name": "my_kernel",
   "language": "python",
   "name": "my_kernel"
  },
  "language_info": {
   "codemirror_mode": {
    "name": "ipython",
    "version": 3
   },
   "file_extension": ".py",
   "mimetype": "text/x-python",
   "name": "python",
   "nbconvert_exporter": "python",
   "pygments_lexer": "ipython3",
   "version": "3.6.8"
  }
 },
 "nbformat": 4,
 "nbformat_minor": 2
}
