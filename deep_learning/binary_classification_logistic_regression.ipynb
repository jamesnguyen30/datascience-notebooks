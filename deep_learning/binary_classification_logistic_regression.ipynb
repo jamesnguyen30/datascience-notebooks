{
 "cells": [
  {
   "cell_type": "code",
   "execution_count": 57,
   "metadata": {},
   "outputs": [],
   "source": [
    "import mxnet as mx\n",
    "from mxnet import nd, autograd, gluon\n",
    "from mxnet.gluon.data import DataLoader, ArrayDataset\n",
    "import matplotlib.pyplot as plt\n",
    "\n",
    "data_path = \"./dataset/adults/train\"\n",
    "test_path = \"./dataset/adults/test\"\n",
    "    "
   ]
  },
  {
   "cell_type": "code",
   "execution_count": 58,
   "metadata": {},
   "outputs": [],
   "source": [
    "data_ctx = mx.cpu()\n",
    "model_ctx = mx.cpu()\n",
    "\n",
    "data_raw = \"\"\n",
    "#open the data files \n",
    "with(open(data_path)) as file:\n",
    "    data_raw = file.read()\n",
    "with open(test_path) as file:\n",
    "    test_raw = file.read()\n",
    "\n"
   ]
  },
  {
   "cell_type": "code",
   "execution_count": 59,
   "metadata": {},
   "outputs": [],
   "source": [
    "def process_data(raw_data):\n",
    "    train_lines = raw_data.splitlines()\n",
    "    num_examples = len(train_lines)\n",
    "    num_features = 123\n",
    "    X = nd.zeros((num_examples, num_features), ctx=data_ctx)\n",
    "    Y = nd.zeros((num_examples, 1), ctx=data_ctx)\n",
    "    for i, line in enumerate(train_lines):\n",
    "        tokens = line.split()\n",
    "        label = (int(tokens[0]) + 1) / 2  # Change label from {-1,1} to {0,1}\n",
    "        Y[i] = label\n",
    "        for token in tokens[1:]:\n",
    "            index = int(token[:-2]) - 1\n",
    "            X[i, index] = 1\n",
    "    return X, Y"
   ]
  },
  {
   "cell_type": "code",
   "execution_count": 60,
   "metadata": {},
   "outputs": [],
   "source": [
    "#Process the train and test dataset and convert to nd instances\n",
    "X_train, Y_train = process_data(data_raw)\n",
    "X_test, Y_test = process_data(test_raw)\n"
   ]
  },
  {
   "cell_type": "code",
   "execution_count": 61,
   "metadata": {},
   "outputs": [
    {
     "name": "stdout",
     "output_type": "stream",
     "text": [
      "SHAPE: \n",
      "(30956, 123)\n",
      "(1605, 123)\n",
      "dense5_ (\n",
      "  Parameter dense5_weight (shape=(1, 0), dtype=float32)\n",
      "  Parameter dense5_bias (shape=(1,), dtype=float32)\n",
      ")\n"
     ]
    }
   ],
   "source": [
    "print(\"SHAPE: \" )\n",
    "print(X_train.shape)\n",
    "print(X_test.shape)\n",
    "\n",
    "train_dataloader = DataLoader(ArrayDataset(X_train, Y_train), batch_size=64, shuffle=True)\n",
    "test_dataloader = DataLoader(ArrayDataset(X_test, Y_test), batch_size=64, shuffle=True)"
   ]
  },
  {
   "cell_type": "code",
   "execution_count": 62,
   "metadata": {},
   "outputs": [],
   "source": [
    "#define a sigmoid\n",
    "def logistic(z):\n",
    "    return 1. / (1. + nd.exp(-z))\n",
    "#define a log loss\n",
    "def log_loss(y_pred, y):\n",
    "    yhat = logistic(y_pred)\n",
    "    return -nd.nansum( y * nd.log(yhat) + (1-y)*nd.log(1-yhat))"
   ]
  },
  {
   "cell_type": "code",
   "execution_count": 64,
   "metadata": {},
   "outputs": [
    {
     "name": "stdout",
     "output_type": "stream",
     "text": [
      "Epoch 0, loss 12547.784077644348\n",
      "Epoch 1, loss 12323.209238052368\n",
      "Epoch 2, loss 12130.995162010193\n",
      "Epoch 3, loss 11964.380876541138\n",
      "Epoch 4, loss 11819.014466285706\n",
      "Epoch 5, loss 11691.038009643555\n",
      "Epoch 6, loss 11578.832670211792\n",
      "Epoch 7, loss 11480.044098854065\n",
      "Epoch 8, loss 11389.015935897827\n",
      "Epoch 9, loss 11314.771946907043\n",
      "Epoch 10, loss 11244.522882461548\n",
      "Epoch 11, loss 11181.466049671173\n",
      "Epoch 12, loss 11125.084665298462\n",
      "Epoch 13, loss 11073.754455566406\n",
      "Epoch 14, loss 11027.240797042847\n",
      "Epoch 15, loss 10984.512371063232\n",
      "Epoch 16, loss 10945.69527053833\n",
      "Epoch 17, loss 10909.373461723328\n",
      "Epoch 18, loss 10876.305819511414\n",
      "Epoch 19, loss 10845.181244850159\n",
      "Epoch 20, loss 10816.766547203064\n",
      "Epoch 21, loss 10790.028327941895\n",
      "Epoch 22, loss 10765.214916229248\n",
      "Epoch 23, loss 10740.748906135559\n",
      "Epoch 24, loss 10719.197072029114\n",
      "Epoch 25, loss 10698.292253494263\n",
      "Epoch 26, loss 10678.476301193237\n",
      "Epoch 27, loss 10659.539561271667\n",
      "Epoch 28, loss 10641.305485248566\n",
      "Epoch 29, loss 10625.310409545898\n"
     ]
    }
   ],
   "source": [
    "#Create a net\n",
    "#Define the model with Dense\n",
    "net = gluon.nn.Dense(1)\n",
    "#init params\n",
    "net.collect_params().initialize(mx.init.Normal(sigma=1.), ctx=model_ctx)\n",
    "#create optimizer \n",
    "trainer = gluon.Trainer(net.collect_params(), 'sgd', {'learning_rate':0.01})\n",
    "\n",
    "print(net.collect_params())\n",
    "\n",
    "#Train the network \n",
    "epochs = 30\n",
    "batch_size = 64\n",
    "loss_sequence = []\n",
    "n_examples = X_train.shape[0]\n",
    "\n",
    "for e in range(epochs):\n",
    "    cum_loss = 0\n",
    "    for i,(data,label)  in enumerate(train_dataloader):\n",
    "        with autograd.record():\n",
    "            ypred = net(data)\n",
    "            loss = log_loss(ypred, label)\n",
    "        loss.backward()\n",
    "        trainer.step(batch_size=batch_size)\n",
    "        cum_loss+= nd.mean(loss).asscalar()\n",
    "    print(\"Epoch {}, loss {}\".format(e, cum_loss))\n",
    "    loss_sequence.append(cum_loss)"
   ]
  },
  {
   "cell_type": "code",
   "execution_count": 67,
   "metadata": {},
   "outputs": [
    {
     "name": "stdout",
     "output_type": "stream",
     "text": [
      "Accuracy: 0.827 (1327.0/1605)\n"
     ]
    },
    {
     "data": {
      "image/png": "[encoded data removed]",
      "text/plain": [
       "<Figure size 576x432 with 1 Axes>"
      ]
     },
     "metadata": {
      "needs_background": "light"
     },
     "output_type": "display_data"
    }
   ],
   "source": [
    "#plot the loss sequence\n",
    "plt.figure(num=None,figsize=(8, 6))\n",
    "plt.plot(loss_sequence)\n",
    "\n",
    "# Adding some bells and whistles to the plot\n",
    "plt.grid(True, which=\"both\")\n",
    "plt.xlabel('epoch',fontsize=14)\n",
    "plt.ylabel('average loss',fontsize=14)\n",
    "\n",
    "#Test accuracy\n",
    "\n",
    "num_correct = 0.0\n",
    "num_total = X_test.shape[0]\n",
    "\n",
    "for i,(data,label) in enumerate(test_dataloader):\n",
    "    output = net(data)\n",
    "    prediction = (nd.sign(output)+1)/2\n",
    "    num_correct += nd.sum(prediction == label)\n",
    "print(\"Accuracy: %0.3f (%s/%s)\" % (num_correct.asscalar()/num_total, num_correct.asscalar(), num_total))\n"
   ]
  },
  {
   "cell_type": "code",
   "execution_count": null,
   "metadata": {},
   "outputs": [],
   "source": []
  }
 ],
 "metadata": {
  "kernelspec": {
   "display_name": "env",
   "language": "python",
   "name": "env"
  },
  "language_info": {
   "codemirror_mode": {
    "name": "ipython",
    "version": 3
   },
   "file_extension": ".py",
   "mimetype": "text/x-python",
   "name": "python",
   "nbconvert_exporter": "python",
   "pygments_lexer": "ipython3",
   "version": "3.6.8"
  }
 },
 "nbformat": 4,
 "nbformat_minor": 2
}
